{
 "cells": [
  {
   "cell_type": "code",
   "execution_count": 21,
   "id": "01755ea0",
   "metadata": {},
   "outputs": [],
   "source": [
    "import random\n",
    "import math\n",
    "import matplotlib.pyplot as plt\n",
    "\n",
    "def con1(x,y):\n",
    "  return 2 * x + y <= 6\n",
    "\n",
    "def con2(x,y):\n",
    "  return x +  3 * y <= 8\n",
    "\n",
    "def Obj(x,y):\n",
    "  return 30 * x + 40 * y"
   ]
  },
  {
   "cell_type": "code",
   "execution_count": 22,
   "id": "4dafba74",
   "metadata": {},
   "outputs": [
    {
     "name": "stdout",
     "output_type": "stream",
     "text": [
      "[1, 0, 2, 1, 0, 3, 2, 2, 0, 1, 2, 2, 3, 3, 2, 0, 2, 2, 3, 2, 1, 0, 1, 3, 1, 1, 2, 2, 2, 2, 1, 2, 2, 0, 0, 0, 1, 1, 1, 2, 2, 0, 1, 0, 1, 2, 1, 0, 2, 1, 3, 0, 2, 2, 2, 2, 2, 1, 0, 0, 1, 0, 2, 3, 1, 3, 0, 1, 3, 1, 1, 1, 1, 2, 2, 2, 0, 0, 0, 0, 2, 0, 2, 3, 2, 0, 0, 0, 0, 1, 3, 3, 0, 2, 2, 3, 2, 2, 1, 0, 2, 0, 1]\n",
      "[1, 1, 2, 2, 1, 0, 2, 2, 1, 2, 1, 2, 0, 0, 2, 0, 1, 0, 0, 0, 0, 0, 0, 0, 1, 1, 1, 2, 2, 0, 1, 2, 2, 1, 0, 0, 2, 2, 1, 2, 0, 2, 0, 2, 0, 1, 1, 0, 2, 0, 0, 1, 2, 0, 0, 1, 2, 1, 2, 1, 2, 0, 1, 0, 0, 0, 1, 2, 0, 2, 1, 1, 2, 1, 1, 2, 1, 2, 1, 2, 2, 1, 2, 0, 0, 0, 1, 1, 1, 1, 0, 0, 0, 1, 2, 0, 2, 0, 2, 2, 0, 0, 2]\n",
      "อ่างล้างหน้าชนิด A = 2\n",
      "อ่างล้างหน้าชนิด B = 2\n",
      "ได้กำไรทั้งสิ้น = 140\n"
     ]
    }
   ],
   "source": [
    "x = []\n",
    "y = []\n",
    "Max = -math.inf\n",
    "xMax = -1\n",
    "yMax = -1\n",
    "for i in range(100000):\n",
    "  rnd1 = random.randint(0, 100)\n",
    "  rnd2 = random.randint(0, 100)\n",
    "  if ( con1(rnd1,rnd2) & con2(rnd1,rnd2)  ):\n",
    "    if (Obj(rnd1, rnd2) > Max):\n",
    "      xMax = rnd1\n",
    "      yMax = rnd2\n",
    "      Max = Obj(rnd1, rnd2)\n",
    "    x.append(rnd1)\n",
    "    y.append(rnd2)\n",
    "print(x)\n",
    "print(y)\n",
    "print(\"อ่างล้างหน้าชนิด A = \" + str(xMax))\n",
    "print(\"อ่างล้างหน้าชนิด B = \" + str(yMax))\n",
    "print(\"ได้กำไรทั้งสิ้น = \" + str(Obj(xMax,yMax)))"
   ]
  },
  {
   "cell_type": "code",
   "execution_count": 23,
   "id": "938da107",
   "metadata": {},
   "outputs": [
    {
     "data": {
      "image/png": "[encoded data removed]",
      "text/plain": [
       "<Figure size 432x288 with 1 Axes>"
      ]
     },
     "metadata": {
      "needs_background": "light"
     },
     "output_type": "display_data"
    }
   ],
   "source": [
    "plt.scatter(x, y, marker='o', color='green')\n",
    "plt.title('Basin')\n",
    "plt.show()"
   ]
  },
  {
   "cell_type": "code",
   "execution_count": null,
   "id": "c219a97b",
   "metadata": {},
   "outputs": [],
   "source": []
  }
 ],
 "metadata": {
  "kernelspec": {
   "display_name": "Python 3 (ipykernel)",
   "language": "python",
   "name": "python3"
  },
  "language_info": {
   "codemirror_mode": {
    "name": "ipython",
    "version": 3
   },
   "file_extension": ".py",
   "mimetype": "text/x-python",
   "name": "python",
   "nbconvert_exporter": "python",
   "pygments_lexer": "ipython3",
   "version": "3.10.5"
  }
 },
 "nbformat": 4,
 "nbformat_minor": 5
}
